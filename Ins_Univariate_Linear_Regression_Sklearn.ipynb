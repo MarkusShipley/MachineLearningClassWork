{
  "cells": [
    {
      "cell_type": "markdown",
      "metadata": {
        "id": "view-in-github",
        "colab_type": "text"
      },
      "source": [
        "<a href=\"https://colab.research.google.com/github/MarkusShipley/MachineLearningClassWork/blob/main/Ins_Univariate_Linear_Regression_Sklearn.ipynb\" target=\"_parent\"><img src=\"https://colab.research.google.com/assets/colab-badge.svg\" alt=\"Open In Colab\"/></a>"
      ]
    },
    {
      "cell_type": "code",
      "execution_count": 2,
      "metadata": {
        "collapsed": true,
        "id": "Tu2uvlifYNPu"
      },
      "outputs": [],
      "source": [
        "%matplotlib inline\n",
        "import matplotlib.pyplot as plt\n",
        "import numpy as np\n",
        "import pandas as pd"
      ]
    },
    {
      "cell_type": "code",
      "execution_count": 3,
      "metadata": {
        "collapsed": true,
        "id": "EalG3BL2YNP2"
      },
      "outputs": [],
      "source": [
        "from sklearn.datasets import make_regression\n",
        "\n",
        "X, y = make_regression(n_samples=20, n_features=1, random_state=0, noise=4, bias=100.0)"
      ]
    },
    {
      "cell_type": "code",
      "source": [
        "plt.scatter(X,y)"
      ],
      "metadata": {
        "colab": {
          "base_uri": "https://localhost:8080/",
          "height": 282
        },
        "id": "z3RjKqB0Zgkv",
        "outputId": "e906525c-cff9-4e54-d0d2-a21622beaf91"
      },
      "execution_count": 5,
      "outputs": [
        {
          "output_type": "execute_result",
          "data": {
            "text/plain": [
              "<matplotlib.collections.PathCollection at 0x7f124bf6a390>"
            ]
          },
          "metadata": {},
          "execution_count": 5
        },
        {
          "output_type": "display_data",
          "data": {
            "text/plain": [
              "<Figure size 432x288 with 1 Axes>"
            ],
            "image/png": "[encoded data removed]"
          },
          "metadata": {
            "needs_background": "light"
          }
        }
      ]
    },
    {
      "cell_type": "code",
      "execution_count": null,
      "metadata": {
        "nbpresent": {
          "id": "4d6b8af6-438e-4034-bda1-1f977cf12441"
        },
        "id": "GjNtR6ClXs4M",
        "outputId": "7cd6bc8c-32c4-455c-a762-ef4c9ccbc6fc"
      },
      "outputs": [
        {
          "data": {
            "text/plain": [
              "<matplotlib.collections.PathCollection at 0x22e8359f6c8>"
            ]
          },
          "execution_count": 4,
          "metadata": {},
          "output_type": "execute_result"
        },
        {
          "data": {
            "image/png": "[encoded data removed]",
            "text/plain": [
              "<Figure size 432x288 with one axis>"
            ]
          },
          "metadata": {
            "needs_background": "light"
          },
          "output_type": "display_data"
        }
      ],
      "source": [
        "from sklearn.datasets import make_s_curve\n",
        "\n",
        "data, color = make_s_curve(100, random_state=0)\n",
        "plt.scatter(data[:,0], color)"
      ]
    },
    {
      "cell_type": "code",
      "source": [
        ""
      ],
      "metadata": {
        "id": "o1v14tpqbNWr"
      },
      "execution_count": null,
      "outputs": []
    },
    {
      "cell_type": "code",
      "execution_count": 8,
      "metadata": {
        "nbpresent": {
          "id": "3810c2af-fdbe-4f01-bc9f-2bb1a8ae70c6"
        },
        "id": "DghQDgYyXs4O",
        "outputId": "e602c692-91ab-40f8-94b6-df8ac69c6282",
        "colab": {
          "base_uri": "https://localhost:8080/"
        }
      },
      "outputs": [
        {
          "output_type": "execute_result",
          "data": {
            "text/plain": [
              "LinearRegression()"
            ]
          },
          "metadata": {},
          "execution_count": 8
        }
      ],
      "source": [
        "from sklearn.linear_model import LinearRegression\n",
        "model = LinearRegression()\n",
        "model"
      ]
    },
    {
      "cell_type": "code",
      "source": [
        ""
      ],
      "metadata": {
        "id": "mvCK9wjcbdqY"
      },
      "execution_count": null,
      "outputs": []
    },
    {
      "cell_type": "code",
      "execution_count": 9,
      "metadata": {
        "nbpresent": {
          "id": "aeeeb44d-7825-4050-b7ba-70813bd3396b"
        },
        "id": "Z_m0rlk_Xs4P",
        "outputId": "b457ac6e-dfbc-4ba9-9655-ea8e1c736a6b",
        "colab": {
          "base_uri": "https://localhost:8080/"
        }
      },
      "outputs": [
        {
          "output_type": "stream",
          "name": "stdout",
          "text": [
            "LinearRegression()\n"
          ]
        }
      ],
      "source": [
        "model.fit(X, y)\n",
        "print(model)"
      ]
    },
    {
      "cell_type": "code",
      "source": [
        ""
      ],
      "metadata": {
        "id": "aOTgBjX7btXV"
      },
      "execution_count": null,
      "outputs": []
    },
    {
      "cell_type": "code",
      "execution_count": 11,
      "metadata": {
        "nbpresent": {
          "id": "9bfbb27b-cae0-4feb-809a-77718bb2e6a3"
        },
        "id": "GLrBBClGXs4P",
        "outputId": "fd21d895-acbb-4b69-8080-966616d4e131",
        "colab": {
          "base_uri": "https://localhost:8080/"
        }
      },
      "outputs": [
        {
          "output_type": "stream",
          "name": "stdout",
          "text": [
            "Weight coefficients:  [12.44002424]\n",
            "y-axis intercept:  101.89622505659258\n"
          ]
        }
      ],
      "source": [
        "print('Weight coefficients: ', model.coef_)\n",
        "print('y-axis intercept: ', model.intercept_) "
      ]
    },
    {
      "cell_type": "code",
      "source": [
        "predictions = model.predict(X)\n",
        "print(f\"True output: {y[0]}\")\n",
        "print(f\"Predicted output: {predictions[0]}\")\n",
        "print(f\"Prediction Error: {predictions[0]-y[0]}\")"
      ],
      "metadata": {
        "colab": {
          "base_uri": "https://localhost:8080/"
        },
        "id": "HHLTSjK5b4Wc",
        "outputId": "22378b55-2099-42e2-b5ff-3f26d74beb65"
      },
      "execution_count": 12,
      "outputs": [
        {
          "output_type": "stream",
          "name": "stdout",
          "text": [
            "True output: 98.01970393090812\n",
            "Predicted output: 100.01333771669648\n",
            "Prediction Error: 1.9936337857883615\n"
          ]
        }
      ]
    },
    {
      "cell_type": "code",
      "source": [
        ""
      ],
      "metadata": {
        "id": "YVVAer8ab_G_"
      },
      "execution_count": null,
      "outputs": []
    },
    {
      "cell_type": "code",
      "execution_count": 13,
      "metadata": {
        "nbpresent": {
          "id": "a6d0bdff-9bba-472e-b354-da47b8761dbe"
        },
        "id": "xcuHDznyXs4Q",
        "outputId": "7a382c40-9c91-42dc-ec85-fac10a03daca",
        "colab": {
          "base_uri": "https://localhost:8080/",
          "height": 677
        }
      },
      "outputs": [
        {
          "output_type": "execute_result",
          "data": {
            "text/plain": [
              "     Predicted      Actual     Error\n",
              "0   100.013338   98.019704  1.993634\n",
              "1   106.874190  108.458654 -1.584464\n",
              "2   114.071749  107.776544  6.295205\n",
              "3    91.271253   90.315201  0.956053\n",
              "4    89.738865   92.047965 -2.309101\n",
              "5   105.790795  100.144726  5.646069\n",
              "6   100.612180  104.371286 -3.759106\n",
              "7    99.344051   95.208967  4.135085\n",
              "8   106.047142  102.505262  3.541880\n",
              "9   120.482605  122.119661 -1.637056\n",
              "10  113.715348  112.287600  1.427748\n",
              "11  103.409865  107.326140 -3.916275\n",
              "12  119.987423  121.444549 -1.457126\n",
              "13  125.128692  125.803460 -0.674768\n",
              "14  103.688131  104.330672 -0.642542\n",
              "15  107.004080  112.026181 -5.022101\n",
              "16  111.363553  106.596614  4.766939\n",
              "17  129.772991  129.857150 -0.084159\n",
              "18  107.417894  113.512862 -6.094967\n",
              "19  123.841079  125.422026 -1.580947"
            ],
            "text/html": [
              "\n",
              "  <div id=\"df-d0788943-c8be-413e-90c2-b9921342bed5\">\n",
              "    <div class=\"colab-df-container\">\n",
              "      <div>\n",
              "<style scoped>\n",
              "    .dataframe tbody tr th:only-of-type {\n",
              "        vertical-align: middle;\n",
              "    }\n",
              "\n",
              "    .dataframe tbody tr th {\n",
              "        vertical-align: top;\n",
              "    }\n",
              "\n",
              "    .dataframe thead th {\n",
              "        text-align: right;\n",
              "    }\n",
              "</style>\n",
              "<table border=\"1\" class=\"dataframe\">\n",
              "  <thead>\n",
              "    <tr style=\"text-align: right;\">\n",
              "      <th></th>\n",
              "      <th>Predicted</th>\n",
              "      <th>Actual</th>\n",
              "      <th>Error</th>\n",
              "    </tr>\n",
              "  </thead>\n",
              "  <tbody>\n",
              "    <tr>\n",
              "      <th>0</th>\n",
              "      <td>100.013338</td>\n",
              "      <td>98.019704</td>\n",
              "      <td>1.993634</td>\n",
              "    </tr>\n",
              "    <tr>\n",
              "      <th>1</th>\n",
              "      <td>106.874190</td>\n",
              "      <td>108.458654</td>\n",
              "      <td>-1.584464</td>\n",
              "    </tr>\n",
              "    <tr>\n",
              "      <th>2</th>\n",
              "      <td>114.071749</td>\n",
              "      <td>107.776544</td>\n",
              "      <td>6.295205</td>\n",
              "    </tr>\n",
              "    <tr>\n",
              "      <th>3</th>\n",
              "      <td>91.271253</td>\n",
              "      <td>90.315201</td>\n",
              "      <td>0.956053</td>\n",
              "    </tr>\n",
              "    <tr>\n",
              "      <th>4</th>\n",
              "      <td>89.738865</td>\n",
              "      <td>92.047965</td>\n",
              "      <td>-2.309101</td>\n",
              "    </tr>\n",
              "    <tr>\n",
              "      <th>5</th>\n",
              "      <td>105.790795</td>\n",
              "      <td>100.144726</td>\n",
              "      <td>5.646069</td>\n",
              "    </tr>\n",
              "    <tr>\n",
              "      <th>6</th>\n",
              "      <td>100.612180</td>\n",
              "      <td>104.371286</td>\n",
              "      <td>-3.759106</td>\n",
              "    </tr>\n",
              "    <tr>\n",
              "      <th>7</th>\n",
              "      <td>99.344051</td>\n",
              "      <td>95.208967</td>\n",
              "      <td>4.135085</td>\n",
              "    </tr>\n",
              "    <tr>\n",
              "      <th>8</th>\n",
              "      <td>106.047142</td>\n",
              "      <td>102.505262</td>\n",
              "      <td>3.541880</td>\n",
              "    </tr>\n",
              "    <tr>\n",
              "      <th>9</th>\n",
              "      <td>120.482605</td>\n",
              "      <td>122.119661</td>\n",
              "      <td>-1.637056</td>\n",
              "    </tr>\n",
              "    <tr>\n",
              "      <th>10</th>\n",
              "      <td>113.715348</td>\n",
              "      <td>112.287600</td>\n",
              "      <td>1.427748</td>\n",
              "    </tr>\n",
              "    <tr>\n",
              "      <th>11</th>\n",
              "      <td>103.409865</td>\n",
              "      <td>107.326140</td>\n",
              "      <td>-3.916275</td>\n",
              "    </tr>\n",
              "    <tr>\n",
              "      <th>12</th>\n",
              "      <td>119.987423</td>\n",
              "      <td>121.444549</td>\n",
              "      <td>-1.457126</td>\n",
              "    </tr>\n",
              "    <tr>\n",
              "      <th>13</th>\n",
              "      <td>125.128692</td>\n",
              "      <td>125.803460</td>\n",
              "      <td>-0.674768</td>\n",
              "    </tr>\n",
              "    <tr>\n",
              "      <th>14</th>\n",
              "      <td>103.688131</td>\n",
              "      <td>104.330672</td>\n",
              "      <td>-0.642542</td>\n",
              "    </tr>\n",
              "    <tr>\n",
              "      <th>15</th>\n",
              "      <td>107.004080</td>\n",
              "      <td>112.026181</td>\n",
              "      <td>-5.022101</td>\n",
              "    </tr>\n",
              "    <tr>\n",
              "      <th>16</th>\n",
              "      <td>111.363553</td>\n",
              "      <td>106.596614</td>\n",
              "      <td>4.766939</td>\n",
              "    </tr>\n",
              "    <tr>\n",
              "      <th>17</th>\n",
              "      <td>129.772991</td>\n",
              "      <td>129.857150</td>\n",
              "      <td>-0.084159</td>\n",
              "    </tr>\n",
              "    <tr>\n",
              "      <th>18</th>\n",
              "      <td>107.417894</td>\n",
              "      <td>113.512862</td>\n",
              "      <td>-6.094967</td>\n",
              "    </tr>\n",
              "    <tr>\n",
              "      <th>19</th>\n",
              "      <td>123.841079</td>\n",
              "      <td>125.422026</td>\n",
              "      <td>-1.580947</td>\n",
              "    </tr>\n",
              "  </tbody>\n",
              "</table>\n",
              "</div>\n",
              "      <button class=\"colab-df-convert\" onclick=\"convertToInteractive('df-d0788943-c8be-413e-90c2-b9921342bed5')\"\n",
              "              title=\"Convert this dataframe to an interactive table.\"\n",
              "              style=\"display:none;\">\n",
              "        \n",
              "  <svg xmlns=\"http://www.w3.org/2000/svg\" height=\"24px\"viewBox=\"0 0 24 24\"\n",
              "       width=\"24px\">\n",
              "    <path d=\"M0 0h24v24H0V0z\" fill=\"none\"/>\n",
              "    <path d=\"M18.56 5.44l.94 2.06.94-2.06 2.06-.94-2.06-.94-.94-2.06-.94 2.06-2.06.94zm-11 1L8.5 8.5l.94-2.06 2.06-.94-2.06-.94L8.5 2.5l-.94 2.06-2.06.94zm10 10l.94 2.06.94-2.06 2.06-.94-2.06-.94-.94-2.06-.94 2.06-2.06.94z\"/><path d=\"M17.41 7.96l-1.37-1.37c-.4-.4-.92-.59-1.43-.59-.52 0-1.04.2-1.43.59L10.3 9.45l-7.72 7.72c-.78.78-.78 2.05 0 2.83L4 21.41c.39.39.9.59 1.41.59.51 0 1.02-.2 1.41-.59l7.78-7.78 2.81-2.81c.8-.78.8-2.07 0-2.86zM5.41 20L4 18.59l7.72-7.72 1.47 1.35L5.41 20z\"/>\n",
              "  </svg>\n",
              "      </button>\n",
              "      \n",
              "  <style>\n",
              "    .colab-df-container {\n",
              "      display:flex;\n",
              "      flex-wrap:wrap;\n",
              "      gap: 12px;\n",
              "    }\n",
              "\n",
              "    .colab-df-convert {\n",
              "      background-color: #E8F0FE;\n",
              "      border: none;\n",
              "      border-radius: 50%;\n",
              "      cursor: pointer;\n",
              "      display: none;\n",
              "      fill: #1967D2;\n",
              "      height: 32px;\n",
              "      padding: 0 0 0 0;\n",
              "      width: 32px;\n",
              "    }\n",
              "\n",
              "    .colab-df-convert:hover {\n",
              "      background-color: #E2EBFA;\n",
              "      box-shadow: 0px 1px 2px rgba(60, 64, 67, 0.3), 0px 1px 3px 1px rgba(60, 64, 67, 0.15);\n",
              "      fill: #174EA6;\n",
              "    }\n",
              "\n",
              "    [theme=dark] .colab-df-convert {\n",
              "      background-color: #3B4455;\n",
              "      fill: #D2E3FC;\n",
              "    }\n",
              "\n",
              "    [theme=dark] .colab-df-convert:hover {\n",
              "      background-color: #434B5C;\n",
              "      box-shadow: 0px 1px 3px 1px rgba(0, 0, 0, 0.15);\n",
              "      filter: drop-shadow(0px 1px 2px rgba(0, 0, 0, 0.3));\n",
              "      fill: #FFFFFF;\n",
              "    }\n",
              "  </style>\n",
              "\n",
              "      <script>\n",
              "        const buttonEl =\n",
              "          document.querySelector('#df-d0788943-c8be-413e-90c2-b9921342bed5 button.colab-df-convert');\n",
              "        buttonEl.style.display =\n",
              "          google.colab.kernel.accessAllowed ? 'block' : 'none';\n",
              "\n",
              "        async function convertToInteractive(key) {\n",
              "          const element = document.querySelector('#df-d0788943-c8be-413e-90c2-b9921342bed5');\n",
              "          const dataTable =\n",
              "            await google.colab.kernel.invokeFunction('convertToInteractive',\n",
              "                                                     [key], {});\n",
              "          if (!dataTable) return;\n",
              "\n",
              "          const docLinkHtml = 'Like what you see? Visit the ' +\n",
              "            '<a target=\"_blank\" href=https://colab.research.google.com/notebooks/data_table.ipynb>data table notebook</a>'\n",
              "            + ' to learn more about interactive tables.';\n",
              "          element.innerHTML = '';\n",
              "          dataTable['output_type'] = 'display_data';\n",
              "          await google.colab.output.renderOutput(dataTable, element);\n",
              "          const docLink = document.createElement('div');\n",
              "          docLink.innerHTML = docLinkHtml;\n",
              "          element.appendChild(docLink);\n",
              "        }\n",
              "      </script>\n",
              "    </div>\n",
              "  </div>\n",
              "  "
            ]
          },
          "metadata": {},
          "execution_count": 13
        }
      ],
      "source": [
        "pd.DataFrame({\"Predicted\": predictions, \"Actual\": y, \"Error\": predictions - y})[[\"Predicted\", \"Actual\", \"Error\"]]"
      ]
    },
    {
      "cell_type": "code",
      "source": [
        ""
      ],
      "metadata": {
        "id": "6q2pPcd-cQEe"
      },
      "execution_count": null,
      "outputs": []
    },
    {
      "cell_type": "code",
      "execution_count": 15,
      "metadata": {
        "nbpresent": {
          "id": "28aaab45-1e14-4db5-9d2c-63b239cafe13"
        },
        "id": "55kjPTEOXs4R"
      },
      "outputs": [],
      "source": [
        "x_min = X.min()\n",
        "x_max = X.max()"
      ]
    },
    {
      "cell_type": "code",
      "execution_count": 16,
      "metadata": {
        "nbpresent": {
          "id": "5e425283-82de-4c48-b2ae-31a1d6983849"
        },
        "id": "yABSj0uOXs4R"
      },
      "outputs": [],
      "source": [
        "y_min_actual = y.min()\n",
        "y_max_actual = y.max()"
      ]
    },
    {
      "cell_type": "code",
      "execution_count": 18,
      "metadata": {
        "nbpresent": {
          "id": "4a5226b5-d431-4cbe-86a6-291952a45a37"
        },
        "id": "tn87UkLIXs4R",
        "outputId": "0c43d31b-c450-4dc0-ae7e-d5d4e1d48f47",
        "colab": {
          "base_uri": "https://localhost:8080/"
        }
      },
      "outputs": [
        {
          "output_type": "stream",
          "name": "stdout",
          "text": [
            "Actual Min Value: 90.31520078064568\n",
            "Calculated Min Value: 89.73886454212163\n",
            "Actual Max Value: 129.85715020208258\n",
            "Calculated Max Value: 129.7729907743173\n"
          ]
        }
      ],
      "source": [
        "y_min = 101.896225057 + (12.44002424 * x_min)\n",
        "y_max = 101.896225057 + (12.44002424 * x_max)\n",
        "print(f\"Actual Min Value: {y_min_actual}\")\n",
        "print(f\"Calculated Min Value: {y_min}\")\n",
        "print(f\"Actual Max Value: {y_max_actual}\")\n",
        "print(f\"Calculated Max Value: {y_max}\")"
      ]
    },
    {
      "cell_type": "code",
      "execution_count": 20,
      "metadata": {
        "nbpresent": {
          "id": "2b83c32a-d7e2-4db6-b45f-afbbf028fe90"
        },
        "id": "KrACxqbFXs4U",
        "outputId": "ee2a854b-5949-4878-b1fe-d46d42692ce2",
        "colab": {
          "base_uri": "https://localhost:8080/"
        }
      },
      "outputs": [
        {
          "output_type": "stream",
          "name": "stdout",
          "text": [
            "Actual Min Value: 90.31520078064568\n",
            "Predicted Min Value: [89.73886454]\n",
            "Actual Max Value: 129.85715020208258\n",
            "Predicted Max Value: [129.77299077]\n"
          ]
        }
      ],
      "source": [
        "y_min_predicted = model.predict([[x_min]])\n",
        "y_max_predicted = model.predict([[x_max]])\n",
        "print(f\"Actual Min Value: {y_min_actual}\")\n",
        "print(f\"Predicted Min Value: {y_min_predicted}\")\n",
        "print(f\"Actual Max Value: {y_max_actual}\")\n",
        "print(f\"Predicted Max Value: {y_max_predicted}\")"
      ]
    },
    {
      "cell_type": "code",
      "execution_count": 21,
      "metadata": {
        "nbpresent": {
          "id": "8bb35ef7-00cc-4ad9-9dd4-6fac480df38e"
        },
        "id": "dkvgFVNGXs4U",
        "outputId": "af8caf1d-a595-40ab-eba6-c858c43250e5",
        "colab": {
          "base_uri": "https://localhost:8080/",
          "height": 282
        }
      },
      "outputs": [
        {
          "output_type": "execute_result",
          "data": {
            "text/plain": [
              "[<matplotlib.lines.Line2D at 0x7f124b49a1d0>]"
            ]
          },
          "metadata": {},
          "execution_count": 21
        },
        {
          "output_type": "display_data",
          "data": {
            "text/plain": [
              "<Figure size 432x288 with 1 Axes>"
            ],
            "image/png": "[encoded data removed]"
          },
          "metadata": {
            "needs_background": "light"
          }
        }
      ],
      "source": [
        "plt.scatter(X, y, c='blue')\n",
        "plt.plot([x_min, x_max], [y_min, y_max], c='red')"
      ]
    },
    {
      "cell_type": "code",
      "source": [
        ""
      ],
      "metadata": {
        "id": "hPurwieRcYRg"
      },
      "execution_count": null,
      "outputs": []
    },
    {
      "cell_type": "code",
      "source": [
        ""
      ],
      "metadata": {
        "id": "UGi7JANwcYJ1"
      },
      "execution_count": null,
      "outputs": []
    },
    {
      "cell_type": "code",
      "source": [
        ""
      ],
      "metadata": {
        "id": "dyCfo_SmcYCC"
      },
      "execution_count": null,
      "outputs": []
    },
    {
      "cell_type": "code",
      "source": [
        ""
      ],
      "metadata": {
        "id": "dozkWMawcX3Y"
      },
      "execution_count": null,
      "outputs": []
    },
    {
      "cell_type": "code",
      "source": [
        ""
      ],
      "metadata": {
        "id": "UsM9tbRGcXrq"
      },
      "execution_count": null,
      "outputs": []
    },
    {
      "cell_type": "code",
      "source": [
        ""
      ],
      "metadata": {
        "id": "BhVlu4KmcXaz"
      },
      "execution_count": null,
      "outputs": []
    }
  ],
  "metadata": {
    "anaconda-cloud": {},
    "kernelspec": {
      "display_name": "Python 3",
      "language": "python",
      "name": "python3"
    },
    "language_info": {
      "codemirror_mode": {
        "name": "ipython",
        "version": 3
      },
      "file_extension": ".py",
      "mimetype": "text/x-python",
      "name": "python",
      "nbconvert_exporter": "python",
      "pygments_lexer": "ipython3",
      "version": "3.6.3"
    },
    "varInspector": {
      "cols": {
        "lenName": 16,
        "lenType": 16,
        "lenVar": 40
      },
      "kernels_config": {
        "python": {
          "delete_cmd_postfix": "",
          "delete_cmd_prefix": "del ",
          "library": "var_list.py",
          "varRefreshCmd": "print(var_dic_list())"
        },
        "r": {
          "delete_cmd_postfix": ") ",
          "delete_cmd_prefix": "rm(",
          "library": "var_list.r",
          "varRefreshCmd": "cat(var_dic_list()) "
        }
      },
      "types_to_exclude": [
        "module",
        "function",
        "builtin_function_or_method",
        "instance",
        "_Feature"
      ],
      "window_display": false
    },
    "colab": {
      "name": "Ins_Univariate_Linear_Regression_Sklearn.ipynb",
      "provenance": [],
      "collapsed_sections": [],
      "include_colab_link": true
    }
  },
  "nbformat": 4,
  "nbformat_minor": 0
}